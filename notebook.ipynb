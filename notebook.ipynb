{
 "cells": [
  {
   "cell_type": "markdown",
   "metadata": {},
   "source": [
    "## Import libraries"
   ]
  },
  {
   "cell_type": "code",
   "execution_count": 32,
   "metadata": {
    "colab": {},
    "colab_type": "code",
    "id": "uH08LNgF_Wrf"
   },
   "outputs": [
    {
     "name": "stdout",
     "output_type": "stream",
     "text": [
      "The autoreload extension is already loaded. To reload it, use:\n",
      "  %reload_ext autoreload\n"
     ]
    }
   ],
   "source": [
    "%load_ext autoreload\n",
    "%autoreload 2\n",
    "\n",
    "#Main tool for sudoku solving\n",
    "import numpy as np\n",
    "\n",
    "#Custom modules\n",
    "from config import *\n",
    "from module import *"
   ]
  },
  {
   "cell_type": "markdown",
   "metadata": {},
   "source": [
    "## Sample sudokus to solve\n",
    "Initially given numbers in the sudoku grid.\n",
    "This input should be easy for humans."
   ]
  },
  {
   "cell_type": "code",
   "execution_count": 33,
   "metadata": {
    "colab": {
     "base_uri": "https://localhost:8080/",
     "height": 170
    },
    "colab_type": "code",
    "id": "cmlaTKxo_lEa",
    "outputId": "edeff3c7-974b-4b5f-8cab-755acbb1c065"
   },
   "outputs": [],
   "source": [
    "#Example 1\n",
    "input_2d_1 = np.array([\n",
    "    [0,0,1], [0,4,7], [0,3,0],\n",
    "    [0,0,0], [0,0,5], [0,4,9],\n",
    "    [3,0,0], [8,9,0], [2,0,1],\n",
    "    \n",
    "    [0,1,5], [0,0,0], [7,0,2],\n",
    "    [0,0,0], [0,0,0], [0,0,0],\n",
    "    [7,0,8], [0,0,0], [9,6,0],\n",
    "    \n",
    "    [8,0,3], [0,1,4], [0,0,7],\n",
    "    [1,6,0], [3,0,0], [0,0,0],\n",
    "    [0,4,0], [6,2,0], [3,0,0],\n",
    "])"
   ]
  },
  {
   "cell_type": "code",
   "execution_count": 34,
   "metadata": {},
   "outputs": [],
   "source": [
    "#Example 2\n",
    "input_2d_2 = np.array([\n",
    "    [0,0,0], [0,6,0], [3,5,0],\n",
    "    [0,0,0], [9,0,3], [0,1,6],\n",
    "    [0,0,3], [0,7,0], [9,0,0],\n",
    "    \n",
    "    [4,2,0], [0,0,0], [6,0,0],\n",
    "    [8,3,6], [2,5,4], [1,7,9],\n",
    "    [0,0,9], [6,3,0], [0,2,4],\n",
    "    \n",
    "    [0,0,2], [0,1,0], [0,0,0],\n",
    "    [7,1,8], [3,0,6], [0,0,0],\n",
    "    [0,4,5], [0,0,0], [0,0,1],\n",
    "])"
   ]
  },
  {
   "cell_type": "markdown",
   "metadata": {},
   "source": [
    "## Convert input suitable for machine\n",
    "Convert sudoku numbers 1-9 to zero based 0-8. Mark empty cells by -1. "
   ]
  },
  {
   "cell_type": "code",
   "execution_count": 35,
   "metadata": {
    "colab": {
     "base_uri": "https://localhost:8080/",
     "height": 170
    },
    "colab_type": "code",
    "id": "cmlaTKxo_lEa",
    "outputId": "edeff3c7-974b-4b5f-8cab-755acbb1c065"
   },
   "outputs": [
    {
     "data": {
      "text/plain": [
       "array([[-1, -1,  0, -1,  3,  6, -1,  2, -1],\n",
       "       [-1, -1, -1, -1, -1,  4, -1,  3,  8],\n",
       "       [ 2, -1, -1,  7,  8, -1,  1, -1,  0],\n",
       "       [-1,  0,  4, -1, -1, -1,  6, -1,  1],\n",
       "       [-1, -1, -1, -1, -1, -1, -1, -1, -1],\n",
       "       [ 6, -1,  7, -1, -1, -1,  8,  5, -1],\n",
       "       [ 7, -1,  2, -1,  0,  3, -1, -1,  6],\n",
       "       [ 0,  5, -1,  2, -1, -1, -1, -1, -1],\n",
       "       [-1,  3, -1,  5,  1, -1,  2, -1, -1]])"
      ]
     },
     "metadata": {},
     "output_type": "display_data"
    }
   ],
   "source": [
    "input_2d = convert_input_2d(input_2d_1)\n",
    "\n",
    "#Display\n",
    "display(input_2d)"
   ]
  },
  {
   "cell_type": "markdown",
   "metadata": {},
   "source": [
    "## Convert 2D matrix to 3D\n",
    "Create an additional dimension for each cell to keep book of possible numbers. Each cell has an array of length 9 for that. \n",
    "\n",
    "For example if 2 and 4 are the only possible values for a cell, it's array would be `[0, 1, 0, 1, 0, 0, 0, 0, 0]`."
   ]
  },
  {
   "cell_type": "code",
   "execution_count": 36,
   "metadata": {},
   "outputs": [],
   "source": [
    "input_3d = convert_2d_3d(input_2d)"
   ]
  },
  {
   "cell_type": "markdown",
   "metadata": {},
   "source": [
    "## Solve\n",
    "Loop through each cell and mark which numbers it can possibly have. There are different strategies to determine this.\n",
    "\n",
    "When there's only one possible number left, it can be marked to the grid.\n",
    "\n",
    "Iterate until one of these conditions is true:\n",
    "* Maximum number of iterations achieved (defined in config.py).\n",
    "* All numbers are known.\n",
    "* The iteration didn't yield any new numbers."
   ]
  },
  {
   "cell_type": "code",
   "execution_count": 37,
   "metadata": {
    "colab": {
     "base_uri": "https://localhost:8080/",
     "height": 714
    },
    "colab_type": "code",
    "id": "u62ugzdh_tk7",
    "outputId": "3f9b1c82-2a46-4f01-887b-938ce01d1d10",
    "scrolled": false
   },
   "outputs": [
    {
     "name": "stdout",
     "output_type": "stream",
     "text": [
      "\n",
      "Round 1\n",
      "Known numbers: 36/81\n",
      "\n",
      "+---------+---------+---------+\n",
      "|       1 | 2  4  7 |    3    |\n",
      "|         | 1     5 |    4  9 |\n",
      "| 3       | 8  9  6 | 2     1 |\n",
      "+---------+---------+---------+\n",
      "|    1  5 |         | 7  8  2 |\n",
      "|         |         |         |\n",
      "| 7     8 |         | 9  6    |\n",
      "+---------+---------+---------+\n",
      "| 8     3 |    1  4 |       7 |\n",
      "| 1  6    | 3       |         |\n",
      "|    4    | 6  2    | 3       |\n",
      "+---------+---------+---------+\n",
      "\n",
      "Round 2\n",
      "Known numbers: 39/81\n",
      "\n",
      "+---------+---------+---------+\n",
      "|       1 | 2  4  7 |    3    |\n",
      "|         | 1  3  5 |    4  9 |\n",
      "| 3       | 8  9  6 | 2     1 |\n",
      "+---------+---------+---------+\n",
      "|    1  5 |    6    | 7  8  2 |\n",
      "|         |         |         |\n",
      "| 7     8 |    5    | 9  6    |\n",
      "+---------+---------+---------+\n",
      "| 8     3 |    1  4 |       7 |\n",
      "| 1  6    | 3       |         |\n",
      "|    4    | 6  2    | 3       |\n",
      "+---------+---------+---------+\n",
      "\n",
      "Round 3\n",
      "Known numbers: 41/81\n",
      "\n",
      "+---------+---------+---------+\n",
      "|       1 | 2  4  7 |    3    |\n",
      "|         | 1  3  5 |    4  9 |\n",
      "| 3       | 8  9  6 | 2     1 |\n",
      "+---------+---------+---------+\n",
      "|    1  5 |    6    | 7  8  2 |\n",
      "|         |         |         |\n",
      "| 7     8 | 4  5    | 9  6  3 |\n",
      "+---------+---------+---------+\n",
      "| 8     3 |    1  4 |       7 |\n",
      "| 1  6    | 3       |         |\n",
      "|    4    | 6  2    | 3       |\n",
      "+---------+---------+---------+\n",
      "\n",
      "Round 4\n",
      "Known numbers: 50/81\n",
      "\n",
      "+---------+---------+---------+\n",
      "|       1 | 2  4  7 |    3    |\n",
      "|         | 1  3  5 |    4  9 |\n",
      "| 3       | 8  9  6 | 2     1 |\n",
      "+---------+---------+---------+\n",
      "|    1  5 | 9  6  3 | 7  8  2 |\n",
      "|         | 7  8    |         |\n",
      "| 7  2  8 | 4  5  1 | 9  6  3 |\n",
      "+---------+---------+---------+\n",
      "| 8     3 | 5  1  4 | 6     7 |\n",
      "| 1  6    | 3  7    |         |\n",
      "|    4    | 6  2    | 3       |\n",
      "+---------+---------+---------+\n",
      "\n",
      "Round 5\n",
      "Known numbers: 59/81\n",
      "\n",
      "+---------+---------+---------+\n",
      "|       1 | 2  4  7 |    3    |\n",
      "|         | 1  3  5 | 8  4  9 |\n",
      "| 3       | 8  9  6 | 2     1 |\n",
      "+---------+---------+---------+\n",
      "| 4  1  5 | 9  6  3 | 7  8  2 |\n",
      "|         | 7  8  2 |         |\n",
      "| 7  2  8 | 4  5  1 | 9  6  3 |\n",
      "+---------+---------+---------+\n",
      "| 8  9  3 | 5  1  4 | 6  2  7 |\n",
      "| 1  6  2 | 3  7    |         |\n",
      "| 5  4  7 | 6  2    | 3     8 |\n",
      "+---------+---------+---------+\n",
      "\n",
      "Round 6\n",
      "Known numbers: 72/81\n",
      "\n",
      "+---------+---------+---------+\n",
      "|       1 | 2  4  7 | 5  3  6 |\n",
      "|    7  6 | 1  3  5 | 8  4  9 |\n",
      "| 3  5  4 | 8  9  6 | 2  7  1 |\n",
      "+---------+---------+---------+\n",
      "| 4  1  5 | 9  6  3 | 7  8  2 |\n",
      "|    3  9 | 7  8  2 |         |\n",
      "| 7  2  8 | 4  5  1 | 9  6  3 |\n",
      "+---------+---------+---------+\n",
      "| 8  9  3 | 5  1  4 | 6  2  7 |\n",
      "| 1  6  2 | 3  7    | 4     5 |\n",
      "| 5  4  7 | 6  2  9 | 3  1  8 |\n",
      "+---------+---------+---------+\n",
      "\n",
      "Round 7\n",
      "Known numbers: 81/81\n",
      "\n",
      "+---------+---------+---------+\n",
      "| 9  8  1 | 2  4  7 | 5  3  6 |\n",
      "| 2  7  6 | 1  3  5 | 8  4  9 |\n",
      "| 3  5  4 | 8  9  6 | 2  7  1 |\n",
      "+---------+---------+---------+\n",
      "| 4  1  5 | 9  6  3 | 7  8  2 |\n",
      "| 6  3  9 | 7  8  2 | 1  5  4 |\n",
      "| 7  2  8 | 4  5  1 | 9  6  3 |\n",
      "+---------+---------+---------+\n",
      "| 8  9  3 | 5  1  4 | 6  2  7 |\n",
      "| 1  6  2 | 3  7  8 | 4  9  5 |\n",
      "| 5  4  7 | 6  2  9 | 3  1  8 |\n",
      "+---------+---------+---------+\n"
     ]
    }
   ],
   "source": [
    "#Convert the original 2d array to 3d boolean array\n",
    "sudoku_3d = input_3d\n",
    "\n",
    "#Iterate i times\n",
    "i = 0\n",
    "known_values = 0\n",
    "known_values_prev = -1\n",
    "while i<20 and known_values<(rows*cols) and known_values!=known_values_prev:\n",
    "    \n",
    "    i += 1\n",
    "\n",
    "    #Apply strategies for each cell and convert back to 2d\n",
    "    sudoku_3d = loop_cells(sudoku_3d, range(9), range(9))\n",
    "    \n",
    "    sudoku_2d = convert_3d_2d(sudoku_3d)\n",
    "\n",
    "    known_values_prev = known_values\n",
    "    known_values = count_knowns_2d(sudoku_2d)\n",
    "\n",
    "    #Print results\n",
    "    print(\"\\nRound {}\".format(i))\n",
    "    print(\"Known numbers: {}/81\".format(known_values))\n",
    "    print_grid(sudoku_2d)"
   ]
  },
  {
   "cell_type": "markdown",
   "metadata": {
    "colab_type": "text",
    "id": "ns0D0Sno3xUj"
   },
   "source": []
  }
 ],
 "metadata": {
  "colab": {
   "collapsed_sections": [],
   "name": "notebook",
   "provenance": [],
   "version": "0.3.2"
  },
  "kernelspec": {
   "display_name": "Python 3",
   "language": "python",
   "name": "python3"
  },
  "language_info": {
   "codemirror_mode": {
    "name": "ipython",
    "version": 3
   },
   "file_extension": ".py",
   "mimetype": "text/x-python",
   "name": "python",
   "nbconvert_exporter": "python",
   "pygments_lexer": "ipython3",
   "version": "3.6.8"
  }
 },
 "nbformat": 4,
 "nbformat_minor": 1
}
